{
 "cells": [
  {
   "cell_type": "markdown",
   "metadata": {},
   "source": [
    "# Traveling Santa - 2018"
   ]
  },
  {
   "cell_type": "code",
   "execution_count": 1,
   "metadata": {
    "collapsed": true
   },
   "outputs": [],
   "source": [
    "import numpy as np\n",
    "import pandas as pd\n",
    "import matplotlib.pyplot as plt\n",
    "import seaborn as sns\n",
    "import random\n",
    "import sys\n",
    "import time\n",
    "import math"
   ]
  },
  {
   "cell_type": "code",
   "execution_count": 2,
   "metadata": {},
   "outputs": [
    {
     "data": {
      "text/html": [
       "<div>\n",
       "<style>\n",
       "    .dataframe thead tr:only-child th {\n",
       "        text-align: right;\n",
       "    }\n",
       "\n",
       "    .dataframe thead th {\n",
       "        text-align: left;\n",
       "    }\n",
       "\n",
       "    .dataframe tbody tr th {\n",
       "        vertical-align: top;\n",
       "    }\n",
       "</style>\n",
       "<table border=\"1\" class=\"dataframe\">\n",
       "  <thead>\n",
       "    <tr style=\"text-align: right;\">\n",
       "      <th></th>\n",
       "      <th>CityId</th>\n",
       "      <th>X</th>\n",
       "      <th>Y</th>\n",
       "    </tr>\n",
       "  </thead>\n",
       "  <tbody>\n",
       "    <tr>\n",
       "      <th>0</th>\n",
       "      <td>0</td>\n",
       "      <td>316.836739</td>\n",
       "      <td>2202.340707</td>\n",
       "    </tr>\n",
       "    <tr>\n",
       "      <th>1</th>\n",
       "      <td>1</td>\n",
       "      <td>4377.405972</td>\n",
       "      <td>336.602082</td>\n",
       "    </tr>\n",
       "    <tr>\n",
       "      <th>2</th>\n",
       "      <td>2</td>\n",
       "      <td>3454.158198</td>\n",
       "      <td>2820.053011</td>\n",
       "    </tr>\n",
       "    <tr>\n",
       "      <th>3</th>\n",
       "      <td>3</td>\n",
       "      <td>4688.099298</td>\n",
       "      <td>2935.898056</td>\n",
       "    </tr>\n",
       "    <tr>\n",
       "      <th>4</th>\n",
       "      <td>4</td>\n",
       "      <td>1010.696952</td>\n",
       "      <td>3236.750989</td>\n",
       "    </tr>\n",
       "  </tbody>\n",
       "</table>\n",
       "</div>"
      ],
      "text/plain": [
       "   CityId            X            Y\n",
       "0       0   316.836739  2202.340707\n",
       "1       1  4377.405972   336.602082\n",
       "2       2  3454.158198  2820.053011\n",
       "3       3  4688.099298  2935.898056\n",
       "4       4  1010.696952  3236.750989"
      ]
     },
     "execution_count": 2,
     "metadata": {},
     "output_type": "execute_result"
    }
   ],
   "source": [
    "df_cities = pd.read_csv('data/cities.csv')\n",
    "\n",
    "cities = np.array(df_cities['CityId'])\n",
    "X = np.array(df_cities['X'])\n",
    "Y = np.array(df_cities['Y'])\n",
    "\n",
    "df_cities.head()"
   ]
  },
  {
   "cell_type": "code",
   "execution_count": 3,
   "metadata": {
    "collapsed": true
   },
   "outputs": [],
   "source": [
    "def calcular_distancia (origen, destino):\n",
    "    distancia = np.sqrt(pow((df_cities.X[destino] - df_cities.X[origen]),2) +\n",
    "                        pow((df_cities.Y[destino] - df_cities.Y[origen]),2))\n",
    "    \n",
    "    return distancia"
   ]
  },
  {
   "cell_type": "code",
   "execution_count": 4,
   "metadata": {
    "collapsed": true
   },
   "outputs": [],
   "source": [
    "def get_destiny(origin):\n",
    "    mindistance = sys.maxsize\n",
    "    for city in no_visited:\n",
    "        distance = calcular_distancia(origin, city)\n",
    "        if (distance < mindistance ):\n",
    "            mindistance = distance\n",
    "            nextCity = city\n",
    "    return nextCity, mindistance"
   ]
  },
  {
   "cell_type": "code",
   "execution_count": 5,
   "metadata": {},
   "outputs": [
    {
     "name": "stdout",
     "output_type": "stream",
     "text": [
      "78934\n",
      "8.71387617533\n",
      "9.511553764343262\n"
     ]
    }
   ],
   "source": [
    "numVertices = len(df_cities.CityId)\n",
    "cities = df_cities['CityId']\n",
    "visited_city = [0,]\n",
    "#no_visited = df_cities['CityId']\n",
    "#no_visited = no_visited.drop(0)\n",
    "no_visited = cities\n",
    "no_visited = no_visited.drop(0)\n",
    "total_distance = 0\n",
    "\n",
    "start = time.time()\n",
    "city, distancia = get_destiny(0)\n",
    "elapsed_time = time.time() - start\n",
    "\n",
    "print (city)\n",
    "print (distancia)\n",
    "print (elapsed_time)"
   ]
  },
  {
   "cell_type": "markdown",
   "metadata": {},
   "source": [
    "## Pruebas"
   ]
  },
  {
   "cell_type": "code",
   "execution_count": 6,
   "metadata": {},
   "outputs": [
    {
     "name": "stdout",
     "output_type": "stream",
     "text": [
      "197769\n",
      "[     0      1      2 ..., 197766 197767 197768]\n",
      "3648.08387893\n"
     ]
    }
   ],
   "source": [
    "numVertices = len(df_cities.CityId)\n",
    "print (numVertices)\n",
    "\n",
    "a = np.array(df_cities['CityId'])\n",
    "print(a)\n",
    "type(a)\n",
    "################\n",
    "destino = 4\n",
    "origen = 780\n",
    "d = np.sqrt(pow((df_cities.X[destino] - df_cities.X[origen]),2) + \n",
    "                    pow((df_cities.Y[destino] - df_cities.Y[origen]),2))\n",
    "print (d)\n",
    "###########\n",
    "#p = [ [0 for i in range (197770)] for i in range (197770)]\n",
    "#print (len(p))"
   ]
  }
 ],
 "metadata": {
  "kernelspec": {
   "display_name": "Python 3",
   "language": "python",
   "name": "python3"
  },
  "language_info": {
   "codemirror_mode": {
    "name": "ipython",
    "version": 3
   },
   "file_extension": ".py",
   "mimetype": "text/x-python",
   "name": "python",
   "nbconvert_exporter": "python",
   "pygments_lexer": "ipython3",
   "version": "3.6.2"
  }
 },
 "nbformat": 4,
 "nbformat_minor": 1
}
